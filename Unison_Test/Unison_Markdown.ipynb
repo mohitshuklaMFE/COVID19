{
 "cells": [
  {
   "cell_type": "markdown",
   "id": "elegant-output",
   "metadata": {},
   "source": [
    "# Mini Project 2021"
   ]
  },
  {
   "cell_type": "code",
   "execution_count": 40,
   "id": "creative-breathing",
   "metadata": {},
   "outputs": [
    {
     "data": {
      "text/html": [
       "<script>\n",
       "code_show=true; \n",
       "function code_toggle() {\n",
       " if (code_show){\n",
       " $('div.input').hide();\n",
       " } else {\n",
       " $('div.input').show();\n",
       " }\n",
       " code_show = !code_show\n",
       "} \n",
       "$( document ).ready(code_toggle);\n",
       "</script>\n",
       "<form action=\"javascript:code_toggle()\"><input type=\"submit\" value=\"Click here to toggle on/off the raw code.\"></form>"
      ],
      "text/plain": [
       "<IPython.core.display.HTML object>"
      ]
     },
     "execution_count": 40,
     "metadata": {},
     "output_type": "execute_result"
    }
   ],
   "source": [
    "from IPython.display import HTML\n",
    "\n",
    "HTML('''<script>\n",
    "code_show=true; \n",
    "function code_toggle() {\n",
    " if (code_show){\n",
    " $('div.input').hide();\n",
    " } else {\n",
    " $('div.input').show();\n",
    " }\n",
    " code_show = !code_show\n",
    "} \n",
    "$( document ).ready(code_toggle);\n",
    "</script>\n",
    "<form action=\"javascript:code_toggle()\"><input type=\"submit\" value=\"Click here to toggle on/off the raw code.\"></form>''')"
   ]
  },
  {
   "cell_type": "code",
   "execution_count": 41,
   "id": "governmental-removal",
   "metadata": {},
   "outputs": [],
   "source": [
    "import warnings;\n",
    "warnings.filterwarnings('ignore');"
   ]
  },
  {
   "cell_type": "markdown",
   "id": "earned-disclaimer",
   "metadata": {},
   "source": [
    "## Q1 SQL Database\n",
    "#### Connect to the MySQL database which has a table of samples of the historical Freddie Mac singlefamily loan level data."
   ]
  },
  {
   "cell_type": "markdown",
   "id": "friendly-glass",
   "metadata": {},
   "source": [
    "The following shows the connection details"
   ]
  },
  {
   "cell_type": "code",
   "execution_count": 42,
   "id": "precious-hawaii",
   "metadata": {},
   "outputs": [
    {
     "name": "stdout",
     "output_type": "stream",
     "text": [
      "<mysql.connector.connection.MySQLConnection object at 0x000001E00EF64520>\n"
     ]
    }
   ],
   "source": [
    "## Q1\n",
    "## input details to connect with the database\n",
    "\n",
    "import mysql.connector\n",
    "\n",
    "db=mysql.connector.connect(\n",
    "    host=\"miniproject-qfa.cef17qxjlavg.us-west-2.rds.amazonaws.com\",\n",
    "    port=3306,\n",
    "    user=\"newuser\",\n",
    "    passwd=\"unisonim2.0\",\n",
    "    database=\"AgencyData\"\n",
    ")\n",
    "\n",
    "## check the connection\n",
    "print(db)"
   ]
  },
  {
   "cell_type": "markdown",
   "id": "saved-parks",
   "metadata": {},
   "source": [
    "The following is a list of databases fetched from MySQL"
   ]
  },
  {
   "cell_type": "code",
   "execution_count": 43,
   "id": "administrative-skating",
   "metadata": {},
   "outputs": [
    {
     "name": "stdout",
     "output_type": "stream",
     "text": [
      "[('information_schema',), ('AgencyData',), ('mysql',), ('performance_schema',)]\n"
     ]
    }
   ],
   "source": [
    "## creating an instance of 'cursor' class which is used to execute the 'SQL' statements in 'Python'\n",
    "cursor = db.cursor()\n",
    "\n",
    "## executing the statement using 'execute()' method\n",
    "cursor.execute(\"SHOW DATABASES\")\n",
    "\n",
    "## 'fetchall()' method fetches all the rows from the last executed statement\n",
    "databases = cursor.fetchall() ## it returns a list of all databases present\n",
    "\n",
    "## printing the list of databases\n",
    "print(databases)"
   ]
  },
  {
   "cell_type": "markdown",
   "id": "successful-above",
   "metadata": {},
   "source": [
    "As we've connected with the database, we can now get the required sample data table"
   ]
  },
  {
   "cell_type": "code",
   "execution_count": 44,
   "id": "equal-yield",
   "metadata": {},
   "outputs": [],
   "source": [
    "## importing pandas and numpy\n",
    "import pandas as pd\n",
    "import numpy as np\n",
    "\n",
    "cursor = db.cursor()\n",
    "\n",
    "## defining the Query\n",
    "query = \"SELECT * FROM CleanFreddieSample\"\n",
    "\n",
    "## getting records from the table\n",
    "cursor.execute(query)\n",
    "\n",
    "## fetching all records from the 'cursor' object\n",
    "records = cursor.fetchall()\n",
    "\n",
    "## Creating column names\n",
    "Cols = ['first_pmt_date', 'age', 'status', 'first_time_ho_flag', 'msa_code', 'mi_pct', 'credit_score', 'num_units', 'occupancy_status', 'orig_cltv', 'orig_dti', 'orig_upb', 'orig_ir', 'prop_type', 'state', 'zip', 'loan_seq_num', 'loan_purpose', 'num_borrowers']\n",
    "\n",
    "## creating a Pandas Dataframe from fetched Table\n",
    "FM = pd.DataFrame(records, columns=Cols)\n",
    "\n",
    "## Print output table \n",
    "# FM.head()"
   ]
  },
  {
   "cell_type": "markdown",
   "id": "recognized-feeding",
   "metadata": {},
   "source": [
    "## Q2 Analyse Mortgage Statuses \n",
    "#### Analyze the breakdown of mortgage statuses (prepay, default, alive) for each origination cohort (group by year of first_pmt_date)."
   ]
  },
  {
   "cell_type": "markdown",
   "id": "later-shepherd",
   "metadata": {},
   "source": [
    "We first extract the year from first_pmt_date, then create a pivot table, grouping on the index 'year' and columns as different values of 'status'"
   ]
  },
  {
   "cell_type": "code",
   "execution_count": 45,
   "id": "alike-nickel",
   "metadata": {},
   "outputs": [],
   "source": [
    "## Extract year from first_pmt_date and assign it in a separate column 'year'\n",
    "FM['year'] = FM['first_pmt_date'].str[:4].astype(int)"
   ]
  },
  {
   "cell_type": "code",
   "execution_count": 46,
   "id": "mediterranean-awareness",
   "metadata": {},
   "outputs": [],
   "source": [
    "## Create a pivot table\n",
    "FM2 = pd.pivot_table(FM, index='year', columns='status', aggfunc=len, values='loan_seq_num', fill_value=0)"
   ]
  },
  {
   "cell_type": "markdown",
   "id": "important-reach",
   "metadata": {},
   "source": [
    "#### Graph the count of mortgages in each status (stacked y-axis) by origination cohort (x-axis). "
   ]
  },
  {
   "cell_type": "code",
   "execution_count": 47,
   "id": "future-crack",
   "metadata": {},
   "outputs": [
    {
     "data": {
      "text/plain": [
       "<AxesSubplot:xlabel='year'>"
      ]
     },
     "execution_count": 47,
     "metadata": {},
     "output_type": "execute_result"
    },
    {
     "data": {
      "image/png": "[encoded data removed]",
      "text/plain": [
       "<Figure size 432x288 with 1 Axes>"
      ]
     },
     "metadata": {
      "needs_background": "light"
     },
     "output_type": "display_data"
    }
   ],
   "source": [
    "## Using plotly to create bar chart to represent the data\n",
    "import matplotlib.pyplot as plt\n",
    "%matplotlib inline\n",
    "FM2.plot.bar(stacked=True)"
   ]
  },
  {
   "cell_type": "markdown",
   "id": "active-pledge",
   "metadata": {},
   "source": [
    "#### Comment on the change in mortgage behavior through the mortgage origination cycle."
   ]
  },
  {
   "cell_type": "markdown",
   "id": "wireless-happening",
   "metadata": {},
   "source": [
    "We are likely to see more and more prepayments (or defaults) as the mortgages age, as consumers may see value in switching (or default if they're unable to pay the installments), as the economic conditions change. Thus we see very few old loans alive, while most of the recent ones are still active."
   ]
  },
  {
   "cell_type": "markdown",
   "id": "female-credits",
   "metadata": {},
   "source": [
    "## Q3 Analyse Mortgage Statuses\n",
    "#### Repeat the analysis above but instead of grouping the mortgages by first_pmt_date, group them by age. "
   ]
  },
  {
   "cell_type": "code",
   "execution_count": 48,
   "id": "postal-monte",
   "metadata": {},
   "outputs": [
    {
     "data": {
      "text/plain": [
       "<AxesSubplot:xlabel='age'>"
      ]
     },
     "execution_count": 48,
     "metadata": {},
     "output_type": "execute_result"
    },
    {
     "data": {
      "image/png": "[encoded data removed]",
      "text/plain": [
       "<Figure size 864x288 with 1 Axes>"
      ]
     },
     "metadata": {
      "needs_background": "light"
     },
     "output_type": "display_data"
    }
   ],
   "source": [
    "## Create a pivot table with 'age' and 'status', & then display in graph\n",
    "FM3 = pd.pivot_table(FM, index='age', columns='status', aggfunc=len, values='loan_seq_num', fill_value=0)\n",
    "FM3.plot.bar(stacked=True)"
   ]
  },
  {
   "cell_type": "markdown",
   "id": "spanish-thermal",
   "metadata": {},
   "source": [
    "#### In addition, briefly explain how you may go about building prepayment and default models for residential mortgages. What data will be required if we want to build such models for Unison home equity agreements (UEA)?"
   ]
  },
  {
   "cell_type": "markdown",
   "id": "figured-wisdom",
   "metadata": {},
   "source": [
    "To build a prepayment and/or default model, we need to consider which factors play a part in changing the status of a mortgage from 'Alive' to either 'Prepay' or 'Default'. The same can be achieved through logistic regression. We can also look at the CPR(t) - the conditional prepayment rate - to build the model dependent on these factors such as interest rate, fico score etc.\n",
    "\n",
    "For Unison Home Equity Agreements (UEA), apart from the given factors, we may also need the data related to \n",
    "* Home prices (for e.g. HPI - Home Price Index), as higher prices also act as an incentive for borrowers to go for higher mortgage or selling the property. \n",
    "* Economic Indicators like GDP growth rate, unemployment rate etc. A booming economy would lead to higher turnover in residential homes, as owners may want to expand or move to a better location/house. "
   ]
  },
  {
   "cell_type": "markdown",
   "id": "traditional-inflation",
   "metadata": {},
   "source": [
    "## Q4 Unconditional Probabilities of Mortgage Behavior\n",
    "#### Determine the unconditional probabilities of mortgage behavior based on the sample data and describe how you arrive at your results."
   ]
  },
  {
   "cell_type": "markdown",
   "id": "danish-birthday",
   "metadata": {},
   "source": [
    "We are looking at the probability of a mortgage either defaulting, prepaying or staying alive in 5 years. Since these are the only 3 possibilities, the total of these probabilities must be 1.\n",
    "To look for unconditional probability, we need to make the following changes:\n",
    "* Remove all loans which are alive and have age less than 5 years (60 months) - Since we do not know about the end state (at 5 years) of the loan which is alive at age 2 years, we need to remove such loans from the dataset.\n",
    "* Change status of all loans above 5 years to 'Alive' - The loans marked 'Prepay' or 'Default' after 5 years would all be alive at the end of 5 years."
   ]
  },
  {
   "cell_type": "code",
   "execution_count": 64,
   "id": "broke-enough",
   "metadata": {},
   "outputs": [
    {
     "data": {
      "text/plain": [
       "<AxesSubplot:ylabel='status'>"
      ]
     },
     "execution_count": 64,
     "metadata": {},
     "output_type": "execute_result"
    },
    {
     "data": {
      "image/png": "[encoded data removed]",
      "text/plain": [
       "<Figure size 432x288 with 1 Axes>"
      ]
     },
     "metadata": {},
     "output_type": "display_data"
    }
   ],
   "source": [
    "## Remove loans where 'age'<60 & 'status'=='Alive'\n",
    "FM4 = FM[-((FM['age']<60) & (FM['status']=='Alive'))]\n",
    "\n",
    "## Change status of all loans where 'age'>60 to 'Alive'\n",
    "FM4.loc[FM['age']>60, 'status'] = 'Alive'\n",
    "\n",
    "## Create a count of all loans and normalize to get the proportion status count\n",
    "FM4s = pd.DataFrame(FM4['status'].value_counts(normalize=True))\n",
    "\n",
    "FM4s.plot.pie(y='status', autopct='%1.1f%%')"
   ]
  },
  {
   "cell_type": "markdown",
   "id": "scenic-evidence",
   "metadata": {},
   "source": [
    "#### How could prepayment or default behavior of the mortgage affect the Unison equity agreement (UEA) on the same home? "
   ]
  },
  {
   "cell_type": "markdown",
   "id": "elder-phrase",
   "metadata": {},
   "source": [
    "A prepayment may be refinance due to lower rates or cash-out, which imply a rise in house price. In case of turnover as well, the borrower will also prepay and close the loan. All these scenarios are beneficial for Unison as the Equity value in the house goes up, which stands to benefit both Unison and UEA holder.\n",
    "Default on the other hand signifies an economic hardship, which may result in a distress sale or auction of property by lender. Such an event would negatively impact the value of house, and the return for Unison in the UEA."
   ]
  },
  {
   "cell_type": "markdown",
   "id": "caring-bibliography",
   "metadata": {},
   "source": [
    "## Q5 Prepayment Model\n",
    "#### Select one or more factors which you believe would affect the 'Prepay' response and build a simple model to predict prepayment or default rates"
   ]
  },
  {
   "cell_type": "markdown",
   "id": "sacred-piece",
   "metadata": {},
   "source": [
    "I'm building a model for Prepayment, in which case prepayment would signify 1 while Alive or Default would be 0 in the logistic regression. The dummy variables would also need to be created for categorical columns. We can run an "
   ]
  },
  {
   "cell_type": "code",
   "execution_count": 50,
   "id": "familiar-kansas",
   "metadata": {},
   "outputs": [],
   "source": [
    "# We need to carry out logistic regression here for prepayment, so need a Y=1 for 'Prepay' and 0 else\n",
    "FM['Y'] = 0\n",
    "FM.loc[FM['status']=='Prepay','Y'] = 1"
   ]
  },
  {
   "cell_type": "code",
   "execution_count": 51,
   "id": "laden-testimony",
   "metadata": {},
   "outputs": [],
   "source": [
    "## import libraries to run logistic regression\n",
    "import scipy\n",
    "from sklearn import datasets, linear_model\n",
    "from sklearn.preprocessing import PolynomialFeatures, MinMaxScaler\n",
    "from sklearn.model_selection import train_test_split\n",
    "from sklearn.linear_model import LassoCV, LinearRegression, LogisticRegression\n",
    "import statsmodels.api as sm\n",
    "from scipy import stats"
   ]
  },
  {
   "cell_type": "code",
   "execution_count": 52,
   "id": "painful-tradition",
   "metadata": {},
   "outputs": [],
   "source": [
    "## Choose appropriate columns for logistic regression\n",
    "FM5 = FM[['age', 'first_time_ho_flag', 'credit_score', 'occupancy_status', 'orig_cltv', 'orig_dti', 'orig_ir', 'prop_type', 'loan_purpose', 'num_borrowers', 'Y']]\n",
    "\n",
    "## Columns which need to be converted to numbers from string\n",
    "Num_col = ['orig_cltv', 'orig_dti', 'orig_ir']\n",
    "for col in Num_col:\n",
    "    FM5[col] = pd.to_numeric(FM5[col], errors='coerce')\n",
    "FM5 = FM5.dropna()\n",
    "# print(FM5.shape)"
   ]
  },
  {
   "cell_type": "code",
   "execution_count": 53,
   "id": "commercial-anime",
   "metadata": {},
   "outputs": [],
   "source": [
    "# Remove space from other columns with strings\n",
    "FM5 = FM5.replace(r'^\\s*$', np.NaN, regex=True)\n",
    "FM5 = FM5.dropna()\n",
    "# print(FM5.shape)\n",
    "\n",
    "catColumns = FM5.select_dtypes(['object']).columns\n",
    "# Create Dummy variables for categorical values\n",
    "FM5 = pd.get_dummies(data=FM5, columns=catColumns, drop_first=True)\n",
    "# print(FM5.shape)"
   ]
  },
  {
   "cell_type": "code",
   "execution_count": 63,
   "id": "seven-meaning",
   "metadata": {},
   "outputs": [
    {
     "name": "stdout",
     "output_type": "stream",
     "text": [
      "                            OLS Regression Results                            \n",
      "==============================================================================\n",
      "Dep. Variable:                      Y   R-squared:                       0.314\n",
      "Model:                            OLS   Adj. R-squared:                  0.313\n",
      "Method:                 Least Squares   F-statistic:                     377.0\n",
      "Date:                Wed, 17 Feb 2021   Prob (F-statistic):               0.00\n",
      "Time:                        00:53:32   Log-Likelihood:                -5051.6\n",
      "No. Observations:               13188   AIC:                         1.014e+04\n",
      "Df Residuals:                   13171   BIC:                         1.026e+04\n",
      "Df Model:                          16                                         \n",
      "Covariance Type:            nonrobust                                         \n",
      "========================================================================================\n",
      "                           coef    std err          t      P>|t|      [0.025      0.975]\n",
      "----------------------------------------------------------------------------------------\n",
      "const                   -0.7381      0.064    -11.491      0.000      -0.864      -0.612\n",
      "age                     -0.0031   8.13e-05    -38.664      0.000      -0.003      -0.003\n",
      "credit_score             0.0009   6.21e-05     13.947      0.000       0.001       0.001\n",
      "orig_cltv               -0.0016      0.000     -7.747      0.000      -0.002      -0.001\n",
      "orig_dti                -0.0003      0.000     -1.078      0.281      -0.001       0.000\n",
      "orig_ir                  0.1652      0.003     58.509      0.000       0.160       0.171\n",
      "num_borrowers            0.0612      0.006      9.545      0.000       0.049       0.074\n",
      "first_time_ho_flag_Y    -0.0571      0.009     -6.069      0.000      -0.075      -0.039\n",
      "occupancy_status_O       0.1210      0.018      6.709      0.000       0.086       0.156\n",
      "occupancy_status_S       0.1943      0.025      7.757      0.000       0.145       0.243\n",
      "prop_type_CP            -0.0059      0.057     -0.103      0.918      -0.118       0.107\n",
      "prop_type_LH             0.0176      0.145      0.121      0.903      -0.268       0.303\n",
      "prop_type_MH            -0.1392      0.040     -3.460      0.001      -0.218      -0.060\n",
      "prop_type_PU             0.0170      0.014      1.238      0.216      -0.010       0.044\n",
      "prop_type_SF             0.0139      0.012      1.154      0.248      -0.010       0.037\n",
      "loan_purpose_N           0.0537      0.009      5.734      0.000       0.035       0.072\n",
      "loan_purpose_P          -0.0805      0.009     -9.097      0.000      -0.098      -0.063\n",
      "==============================================================================\n",
      "Omnibus:                      869.205   Durbin-Watson:                   1.994\n",
      "Prob(Omnibus):                  0.000   Jarque-Bera (JB):              750.724\n",
      "Skew:                          -0.512   Prob(JB):                    9.60e-164\n",
      "Kurtosis:                       2.435   Cond. No.                     3.49e+04\n",
      "==============================================================================\n",
      "\n",
      "Notes:\n",
      "[1] Standard Errors assume that the covariance matrix of the errors is correctly specified.\n",
      "[2] The condition number is large, 3.49e+04. This might indicate that there are\n",
      "strong multicollinearity or other numerical problems.\n"
     ]
    }
   ],
   "source": [
    "## Run OLS regression to get variables info to use or discard\n",
    "FM5_X = FM5.loc[:, FM5.columns != 'Y']\n",
    "FM5_y = FM5.loc[:, 'Y']\n",
    "\n",
    "X2 = sm.add_constant(FM5_X)\n",
    "est = sm.OLS(FM5_y, X2)\n",
    "est2 = est.fit()\n",
    "print(est2.summary())"
   ]
  },
  {
   "cell_type": "markdown",
   "id": "phantom-smile",
   "metadata": {},
   "source": [
    "Looking at the t-stats for above variables, we can discard prop_type and consider everything else in the model. This just indicates that property type does not significantly impact the decision to prepay a loan. The most significant factors, from the above, are interest rates, loan age and credit score, which are usually quoted as major factors for borrower behaviour. We can now run a logistic regression, the score of which will be displayed at the end. A high score denotes how well the model is performing."
   ]
  },
  {
   "cell_type": "code",
   "execution_count": 57,
   "id": "strange-agriculture",
   "metadata": {},
   "outputs": [],
   "source": [
    "## Combining various Categorical variables to the final model \n",
    "col0 = ['age', 'credit_score', 'orig_cltv', 'orig_dti', 'orig_ir', 'num_borrowers']\n",
    "FTHF = ['first_time_ho_flag_Y']\n",
    "OS = ['occupancy_status_O', 'occupancy_status_S']\n",
    "PT = ['prop_type_CP', 'prop_type_LH', 'prop_type_MH', 'prop_type_PU', 'prop_type_SF']\n",
    "LP = ['loan_purpose_N', 'loan_purpose_P']\n",
    "\n",
    "colx = col0 + FTHF + OS + LP\n",
    "#colx= col0\n",
    "\n",
    "FM5_X = FM5.loc[:, colx]\n",
    "FM5_y = FM5.loc[:,'Y']\n",
    "#print(FM5.mean())"
   ]
  },
  {
   "cell_type": "code",
   "execution_count": 58,
   "id": "framed-apollo",
   "metadata": {},
   "outputs": [
    {
     "name": "stdout",
     "output_type": "stream",
     "text": [
      "Logistic Model Score:  0.83128601759175\n"
     ]
    }
   ],
   "source": [
    "## Regression\n",
    "clf = LogisticRegression(random_state=0).fit(FM5_X, FM5_y)\n",
    "clf.predict_proba(FM5_X)\n",
    "clf.score(FM5_X, FM5_y)\n",
    "\n",
    "print('Logistic Model Score: ', clf.score(FM5_X, FM5_y))"
   ]
  },
  {
   "cell_type": "markdown",
   "id": "based-preserve",
   "metadata": {},
   "source": [
    "The following conusion matrix shows the performance of the model vs the actual prepayments."
   ]
  },
  {
   "cell_type": "code",
   "execution_count": 62,
   "id": "statistical-relations",
   "metadata": {},
   "outputs": [
    {
     "data": {
      "image/png": "[encoded data removed]",
      "text/plain": [
       "<Figure size 216x216 with 1 Axes>"
      ]
     },
     "metadata": {
      "needs_background": "light"
     },
     "output_type": "display_data"
    }
   ],
   "source": [
    "## Confusion matrix\n",
    "from sklearn.metrics import confusion_matrix\n",
    "import matplotlib.pyplot as plt\n",
    "\n",
    "cm = confusion_matrix(FM5_y, clf.predict(FM5_X))\n",
    "\n",
    "fig, ax = plt.subplots(figsize=(3, 3))\n",
    "ax.imshow(cm)\n",
    "ax.grid(False)\n",
    "ax.xaxis.set(ticks=(0, 1), ticklabels=('Predicted 0s', 'Predicted 1s'))\n",
    "ax.yaxis.set(ticks=(0, 1), ticklabels=('Actual 0s', 'Actual 1s'))\n",
    "ax.set_ylim(1.5, -0.5)\n",
    "for i in range(2):\n",
    "    for j in range(2):\n",
    "        ax.text(j, i, cm[i, j], ha='center', va='center', color='red')\n",
    "plt.show()"
   ]
  },
  {
   "cell_type": "markdown",
   "id": "uniform-saskatchewan",
   "metadata": {},
   "source": [
    "#### Comment on how your selected response (prepayment or default) might affect the market price of a mortgage and how you could devise an investment strategy around this model’s output. "
   ]
  },
  {
   "cell_type": "markdown",
   "id": "greatest-effort",
   "metadata": {},
   "source": [
    "By building the model, we can predict the cashflows of the mortgage. These cashflows discounted back would then be used to arrive at the value of the mortgage. If the model is good, we can identify the mortgages (MBS/MSR) which are mispriced, earning an arbitrage in the process. "
   ]
  },
  {
   "cell_type": "markdown",
   "id": "incorporate-advantage",
   "metadata": {},
   "source": [
    "## Q6 Why monitoring is essential for Unison  \n",
    "#### Why do you think we need to monitor, analyze and understand the mortgage industry in general and our customers’ mortgages in particular?"
   ]
  },
  {
   "cell_type": "markdown",
   "id": "bulgarian-pantyhose",
   "metadata": {},
   "source": [
    "By buying borrower's equity, Unison is a party to the performance of home equity. The mortgage may be a lead indicator, and the preformance of mortgage and its behavior can tell us whether ur investment is doing well or poorly, and allow us to manage our risk better. Also, a good borrower is required for both mortgage as well as UEA, as a major risk is tied to the economic condition of the borrower. Analyzing these factors would improve our portfolio performance and mitigage the risk.  "
   ]
  },
  {
   "cell_type": "markdown",
   "id": "breathing-alpha",
   "metadata": {},
   "source": [
    "#### Name key metrics that you believe are good indicators of risk and explain how you think we can use those metrics in risk management, investment structuring, etc."
   ]
  },
  {
   "cell_type": "markdown",
   "id": "freelance-taiwan",
   "metadata": {},
   "source": [
    "The major risk indicators are:\n",
    "1. Housing prices - since we're buying home equity, this becomes the primary risk for the portfolio.\n",
    "2. Economic conditions (GDP growth rate, unemployment rate, inflation/interest rate) - these macro factors can help us in determining whether the returns expected on the portfolio are good or bad.\n",
    "3. Borrower characteristics (fico score, "
   ]
  }
 ],
 "metadata": {
  "ipub": {
   "titlepage": {
    "author": "Mohit Shukla",
    "date": "16-Feb-2021",
    "email": "shuklam@gmail.com",
    "logo": "C:/Users/mshukla/Downloads/Unison/Unison_Home_Ownership_Investors.png",
    "subtitle": "Quantitative Financial Analyst – Research and Data",
    "tagline": "Mini Project 2021",
    "title": "Unison Home Ownership Investors"
   }
  },
  "kernelspec": {
   "display_name": "Python 3",
   "language": "python",
   "name": "python3"
  },
  "language_info": {
   "codemirror_mode": {
    "name": "ipython",
    "version": 3
   },
   "file_extension": ".py",
   "mimetype": "text/x-python",
   "name": "python",
   "nbconvert_exporter": "python",
   "pygments_lexer": "ipython3",
   "version": "3.8.5"
  }
 },
 "nbformat": 4,
 "nbformat_minor": 5
}
